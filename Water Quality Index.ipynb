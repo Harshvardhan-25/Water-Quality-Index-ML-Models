{
 "cells": [
  {
   "cell_type": "code",
   "execution_count": 1,
   "id": "509f8bbb",
   "metadata": {},
   "outputs": [],
   "source": [
    "import pandas as pd\n",
    "import numpy as np\n",
    "import seaborn as sns\n",
    "import matplotlib.pyplot as plt\n",
    "from sklearn.model_selection import train_test_split\n",
    "from sklearn.linear_model import LinearRegression\n",
    "from sklearn.metrics import mean_squared_error, r2_score\n",
    "from sklearn.preprocessing import PolynomialFeatures"
   ]
  },
  {
   "cell_type": "code",
   "execution_count": 2,
   "id": "0374e0b4",
   "metadata": {},
   "outputs": [
    {
     "data": {
      "text/html": [
       "<div>\n",
       "<style scoped>\n",
       "    .dataframe tbody tr th:only-of-type {\n",
       "        vertical-align: middle;\n",
       "    }\n",
       "\n",
       "    .dataframe tbody tr th {\n",
       "        vertical-align: top;\n",
       "    }\n",
       "\n",
       "    .dataframe thead th {\n",
       "        text-align: right;\n",
       "    }\n",
       "</style>\n",
       "<table border=\"1\" class=\"dataframe\">\n",
       "  <thead>\n",
       "    <tr style=\"text-align: right;\">\n",
       "      <th></th>\n",
       "      <th>location</th>\n",
       "      <th>state</th>\n",
       "      <th>do</th>\n",
       "      <th>ph</th>\n",
       "      <th>co</th>\n",
       "      <th>bod</th>\n",
       "      <th>na</th>\n",
       "      <th>tc</th>\n",
       "      <th>year</th>\n",
       "      <th>wqi</th>\n",
       "    </tr>\n",
       "  </thead>\n",
       "  <tbody>\n",
       "    <tr>\n",
       "      <th>0</th>\n",
       "      <td>ZUARI AT PANCHAWADI</td>\n",
       "      <td>GOA</td>\n",
       "      <td>6.3</td>\n",
       "      <td>6.9</td>\n",
       "      <td>179.0</td>\n",
       "      <td>1.7</td>\n",
       "      <td>0.1</td>\n",
       "      <td>5330.0</td>\n",
       "      <td>2014</td>\n",
       "      <td>79.28</td>\n",
       "    </tr>\n",
       "    <tr>\n",
       "      <th>1</th>\n",
       "      <td>RIVER ZUARI AT BORIM BRIDGE</td>\n",
       "      <td>GOA</td>\n",
       "      <td>5.8</td>\n",
       "      <td>6.9</td>\n",
       "      <td>64.0</td>\n",
       "      <td>3.8</td>\n",
       "      <td>0.5</td>\n",
       "      <td>8443.0</td>\n",
       "      <td>2014</td>\n",
       "      <td>69.34</td>\n",
       "    </tr>\n",
       "    <tr>\n",
       "      <th>2</th>\n",
       "      <td>RIVER ZUARI AT MARCAIM JETTY</td>\n",
       "      <td>GOA</td>\n",
       "      <td>5.8</td>\n",
       "      <td>7.3</td>\n",
       "      <td>83.0</td>\n",
       "      <td>1.9</td>\n",
       "      <td>0.4</td>\n",
       "      <td>5500.0</td>\n",
       "      <td>2014</td>\n",
       "      <td>77.14</td>\n",
       "    </tr>\n",
       "    <tr>\n",
       "      <th>3</th>\n",
       "      <td>MANDOVI AT NEGHBOURHOOD OF PANAJI, GOA</td>\n",
       "      <td>GOA</td>\n",
       "      <td>5.5</td>\n",
       "      <td>7.4</td>\n",
       "      <td>81.0</td>\n",
       "      <td>1.5</td>\n",
       "      <td>0.1</td>\n",
       "      <td>4049.0</td>\n",
       "      <td>2014</td>\n",
       "      <td>77.14</td>\n",
       "    </tr>\n",
       "    <tr>\n",
       "      <th>4</th>\n",
       "      <td>MANDOVI AT TONCA, MARCELA, GOA</td>\n",
       "      <td>GOA</td>\n",
       "      <td>6.1</td>\n",
       "      <td>6.7</td>\n",
       "      <td>308.0</td>\n",
       "      <td>1.4</td>\n",
       "      <td>0.3</td>\n",
       "      <td>5672.0</td>\n",
       "      <td>2014</td>\n",
       "      <td>75.44</td>\n",
       "    </tr>\n",
       "  </tbody>\n",
       "</table>\n",
       "</div>"
      ],
      "text/plain": [
       "                                 location state   do   ph     co  bod   na  \\\n",
       "0                     ZUARI AT PANCHAWADI   GOA  6.3  6.9  179.0  1.7  0.1   \n",
       "1             RIVER ZUARI AT BORIM BRIDGE   GOA  5.8  6.9   64.0  3.8  0.5   \n",
       "2            RIVER ZUARI AT MARCAIM JETTY   GOA  5.8  7.3   83.0  1.9  0.4   \n",
       "3  MANDOVI AT NEGHBOURHOOD OF PANAJI, GOA   GOA  5.5  7.4   81.0  1.5  0.1   \n",
       "4          MANDOVI AT TONCA, MARCELA, GOA   GOA  6.1  6.7  308.0  1.4  0.3   \n",
       "\n",
       "       tc  year    wqi  \n",
       "0  5330.0  2014  79.28  \n",
       "1  8443.0  2014  69.34  \n",
       "2  5500.0  2014  77.14  \n",
       "3  4049.0  2014  77.14  \n",
       "4  5672.0  2014  75.44  "
      ]
     },
     "execution_count": 2,
     "metadata": {},
     "output_type": "execute_result"
    }
   ],
   "source": [
    "df = pd.read_csv(\"C:\\Python, Jupyter, Pandas Code\\output.csv\")\n",
    "df.head()"
   ]
  },
  {
   "cell_type": "code",
   "execution_count": 10,
   "id": "7362d3cd",
   "metadata": {},
   "outputs": [],
   "source": [
    "df=df.drop('state',axis=1)"
   ]
  },
  {
   "cell_type": "code",
   "execution_count": 11,
   "id": "16aa6a7d",
   "metadata": {},
   "outputs": [],
   "source": [
    "for col in df. columns:\n",
    "    df[col].replace('?',np.NaN,inplace=True)"
   ]
  },
  {
   "cell_type": "code",
   "execution_count": 12,
   "id": "d054f14c",
   "metadata": {},
   "outputs": [],
   "source": [
    "df['location'].fillna(df['location'].mode()[0],inplace=True)\n",
    "df['do'].fillna(df['do'].mode()[0],inplace=True)\n",
    "df['ph'].fillna(df['ph'].mode()[0],inplace=True)\n",
    "df['co'].fillna(df['co'].mode()[0],inplace=True)\n",
    "df['bod'].fillna(df['bod'].mode()[0],inplace=True)\n",
    "df['na'].fillna(df['na'].mode()[0],inplace=True)\n",
    "df['tc'].fillna(df['tc'].mode()[0],inplace=True)\n",
    "df['year'].fillna(df['year'].mode()[0],inplace=True)"
   ]
  },
  {
   "cell_type": "code",
   "execution_count": 13,
   "id": "d8390fa1",
   "metadata": {},
   "outputs": [
    {
     "data": {
      "text/plain": [
       "location    0\n",
       "do          0\n",
       "ph          0\n",
       "co          0\n",
       "bod         0\n",
       "na          0\n",
       "tc          0\n",
       "year        0\n",
       "wqi         0\n",
       "dtype: int64"
      ]
     },
     "execution_count": 13,
     "metadata": {},
     "output_type": "execute_result"
    }
   ],
   "source": [
    "df.isnull().sum()"
   ]
  },
  {
   "cell_type": "code",
   "execution_count": 117,
   "id": "767d344a",
   "metadata": {},
   "outputs": [],
   "source": [
    "#Removing locations since not an attribute\n",
    "location = df['location']\n",
    "year = df['year']"
   ]
  },
  {
   "cell_type": "code",
   "execution_count": 125,
   "id": "d8dd4dd8",
   "metadata": {},
   "outputs": [],
   "source": [
    "\n",
    "df_new =df_new.drop('year',axis=1)"
   ]
  },
  {
   "cell_type": "code",
   "execution_count": 126,
   "id": "ef3926ed",
   "metadata": {},
   "outputs": [
    {
     "data": {
      "text/html": [
       "<div>\n",
       "<style scoped>\n",
       "    .dataframe tbody tr th:only-of-type {\n",
       "        vertical-align: middle;\n",
       "    }\n",
       "\n",
       "    .dataframe tbody tr th {\n",
       "        vertical-align: top;\n",
       "    }\n",
       "\n",
       "    .dataframe thead th {\n",
       "        text-align: right;\n",
       "    }\n",
       "</style>\n",
       "<table border=\"1\" class=\"dataframe\">\n",
       "  <thead>\n",
       "    <tr style=\"text-align: right;\">\n",
       "      <th></th>\n",
       "      <th>do</th>\n",
       "      <th>ph</th>\n",
       "      <th>co</th>\n",
       "      <th>bod</th>\n",
       "      <th>na</th>\n",
       "      <th>tc</th>\n",
       "      <th>wqi</th>\n",
       "    </tr>\n",
       "  </thead>\n",
       "  <tbody>\n",
       "    <tr>\n",
       "      <th>0</th>\n",
       "      <td>6.300</td>\n",
       "      <td>6.900</td>\n",
       "      <td>179.0</td>\n",
       "      <td>1.7</td>\n",
       "      <td>0.1</td>\n",
       "      <td>5330.0</td>\n",
       "      <td>79.28</td>\n",
       "    </tr>\n",
       "    <tr>\n",
       "      <th>1</th>\n",
       "      <td>5.800</td>\n",
       "      <td>6.900</td>\n",
       "      <td>64.0</td>\n",
       "      <td>3.8</td>\n",
       "      <td>0.5</td>\n",
       "      <td>8443.0</td>\n",
       "      <td>69.34</td>\n",
       "    </tr>\n",
       "    <tr>\n",
       "      <th>2</th>\n",
       "      <td>5.800</td>\n",
       "      <td>7.300</td>\n",
       "      <td>83.0</td>\n",
       "      <td>1.9</td>\n",
       "      <td>0.4</td>\n",
       "      <td>5500.0</td>\n",
       "      <td>77.14</td>\n",
       "    </tr>\n",
       "    <tr>\n",
       "      <th>3</th>\n",
       "      <td>5.500</td>\n",
       "      <td>7.400</td>\n",
       "      <td>81.0</td>\n",
       "      <td>1.5</td>\n",
       "      <td>0.1</td>\n",
       "      <td>4049.0</td>\n",
       "      <td>77.14</td>\n",
       "    </tr>\n",
       "    <tr>\n",
       "      <th>4</th>\n",
       "      <td>6.100</td>\n",
       "      <td>6.700</td>\n",
       "      <td>308.0</td>\n",
       "      <td>1.4</td>\n",
       "      <td>0.3</td>\n",
       "      <td>5672.0</td>\n",
       "      <td>75.44</td>\n",
       "    </tr>\n",
       "    <tr>\n",
       "      <th>...</th>\n",
       "      <td>...</td>\n",
       "      <td>...</td>\n",
       "      <td>...</td>\n",
       "      <td>...</td>\n",
       "      <td>...</td>\n",
       "      <td>...</td>\n",
       "      <td>...</td>\n",
       "    </tr>\n",
       "    <tr>\n",
       "      <th>1772</th>\n",
       "      <td>4.600</td>\n",
       "      <td>3.000</td>\n",
       "      <td>350.0</td>\n",
       "      <td>6.2</td>\n",
       "      <td>2.2</td>\n",
       "      <td>49.0</td>\n",
       "      <td>56.18</td>\n",
       "    </tr>\n",
       "    <tr>\n",
       "      <th>1773</th>\n",
       "      <td>8.800</td>\n",
       "      <td>7.000</td>\n",
       "      <td>172.0</td>\n",
       "      <td>1.6</td>\n",
       "      <td>5.0</td>\n",
       "      <td>2800.0</td>\n",
       "      <td>82.58</td>\n",
       "    </tr>\n",
       "    <tr>\n",
       "      <th>1774</th>\n",
       "      <td>10.000</td>\n",
       "      <td>7.100</td>\n",
       "      <td>150.0</td>\n",
       "      <td>1.0</td>\n",
       "      <td>4.0</td>\n",
       "      <td>350.0</td>\n",
       "      <td>88.38</td>\n",
       "    </tr>\n",
       "    <tr>\n",
       "      <th>1775</th>\n",
       "      <td>9.000</td>\n",
       "      <td>7.300</td>\n",
       "      <td>158.0</td>\n",
       "      <td>1.8</td>\n",
       "      <td>7.2</td>\n",
       "      <td>280.0</td>\n",
       "      <td>88.20</td>\n",
       "    </tr>\n",
       "    <tr>\n",
       "      <th>1776</th>\n",
       "      <td>7.767</td>\n",
       "      <td>7.543</td>\n",
       "      <td>55.0</td>\n",
       "      <td>0.5</td>\n",
       "      <td>0.1</td>\n",
       "      <td>10.0</td>\n",
       "      <td>68.00</td>\n",
       "    </tr>\n",
       "  </tbody>\n",
       "</table>\n",
       "<p>1777 rows × 7 columns</p>\n",
       "</div>"
      ],
      "text/plain": [
       "          do     ph     co  bod   na      tc    wqi\n",
       "0      6.300  6.900  179.0  1.7  0.1  5330.0  79.28\n",
       "1      5.800  6.900   64.0  3.8  0.5  8443.0  69.34\n",
       "2      5.800  7.300   83.0  1.9  0.4  5500.0  77.14\n",
       "3      5.500  7.400   81.0  1.5  0.1  4049.0  77.14\n",
       "4      6.100  6.700  308.0  1.4  0.3  5672.0  75.44\n",
       "...      ...    ...    ...  ...  ...     ...    ...\n",
       "1772   4.600  3.000  350.0  6.2  2.2    49.0  56.18\n",
       "1773   8.800  7.000  172.0  1.6  5.0  2800.0  82.58\n",
       "1774  10.000  7.100  150.0  1.0  4.0   350.0  88.38\n",
       "1775   9.000  7.300  158.0  1.8  7.2   280.0  88.20\n",
       "1776   7.767  7.543   55.0  0.5  0.1    10.0  68.00\n",
       "\n",
       "[1777 rows x 7 columns]"
      ]
     },
     "execution_count": 126,
     "metadata": {},
     "output_type": "execute_result"
    }
   ],
   "source": [
    "df_new"
   ]
  },
  {
   "cell_type": "code",
   "execution_count": 127,
   "id": "44b39f76",
   "metadata": {},
   "outputs": [
    {
     "data": {
      "text/html": [
       "<div>\n",
       "<style scoped>\n",
       "    .dataframe tbody tr th:only-of-type {\n",
       "        vertical-align: middle;\n",
       "    }\n",
       "\n",
       "    .dataframe tbody tr th {\n",
       "        vertical-align: top;\n",
       "    }\n",
       "\n",
       "    .dataframe thead th {\n",
       "        text-align: right;\n",
       "    }\n",
       "</style>\n",
       "<table border=\"1\" class=\"dataframe\">\n",
       "  <thead>\n",
       "    <tr style=\"text-align: right;\">\n",
       "      <th></th>\n",
       "      <th>do</th>\n",
       "      <th>ph</th>\n",
       "      <th>co</th>\n",
       "      <th>bod</th>\n",
       "      <th>na</th>\n",
       "      <th>tc</th>\n",
       "      <th>wqi</th>\n",
       "    </tr>\n",
       "  </thead>\n",
       "  <tbody>\n",
       "    <tr>\n",
       "      <th>0</th>\n",
       "      <td>6.300</td>\n",
       "      <td>6.900</td>\n",
       "      <td>179.0</td>\n",
       "      <td>1.7</td>\n",
       "      <td>0.1</td>\n",
       "      <td>5330.0</td>\n",
       "      <td>79.28</td>\n",
       "    </tr>\n",
       "    <tr>\n",
       "      <th>1</th>\n",
       "      <td>5.800</td>\n",
       "      <td>6.900</td>\n",
       "      <td>64.0</td>\n",
       "      <td>3.8</td>\n",
       "      <td>0.5</td>\n",
       "      <td>8443.0</td>\n",
       "      <td>69.34</td>\n",
       "    </tr>\n",
       "    <tr>\n",
       "      <th>2</th>\n",
       "      <td>5.800</td>\n",
       "      <td>7.300</td>\n",
       "      <td>83.0</td>\n",
       "      <td>1.9</td>\n",
       "      <td>0.4</td>\n",
       "      <td>5500.0</td>\n",
       "      <td>77.14</td>\n",
       "    </tr>\n",
       "    <tr>\n",
       "      <th>3</th>\n",
       "      <td>5.500</td>\n",
       "      <td>7.400</td>\n",
       "      <td>81.0</td>\n",
       "      <td>1.5</td>\n",
       "      <td>0.1</td>\n",
       "      <td>4049.0</td>\n",
       "      <td>77.14</td>\n",
       "    </tr>\n",
       "    <tr>\n",
       "      <th>4</th>\n",
       "      <td>6.100</td>\n",
       "      <td>6.700</td>\n",
       "      <td>308.0</td>\n",
       "      <td>1.4</td>\n",
       "      <td>0.3</td>\n",
       "      <td>5672.0</td>\n",
       "      <td>75.44</td>\n",
       "    </tr>\n",
       "    <tr>\n",
       "      <th>...</th>\n",
       "      <td>...</td>\n",
       "      <td>...</td>\n",
       "      <td>...</td>\n",
       "      <td>...</td>\n",
       "      <td>...</td>\n",
       "      <td>...</td>\n",
       "      <td>...</td>\n",
       "    </tr>\n",
       "    <tr>\n",
       "      <th>1772</th>\n",
       "      <td>4.600</td>\n",
       "      <td>3.000</td>\n",
       "      <td>350.0</td>\n",
       "      <td>6.2</td>\n",
       "      <td>2.2</td>\n",
       "      <td>49.0</td>\n",
       "      <td>56.18</td>\n",
       "    </tr>\n",
       "    <tr>\n",
       "      <th>1773</th>\n",
       "      <td>8.800</td>\n",
       "      <td>7.000</td>\n",
       "      <td>172.0</td>\n",
       "      <td>1.6</td>\n",
       "      <td>5.0</td>\n",
       "      <td>2800.0</td>\n",
       "      <td>82.58</td>\n",
       "    </tr>\n",
       "    <tr>\n",
       "      <th>1774</th>\n",
       "      <td>10.000</td>\n",
       "      <td>7.100</td>\n",
       "      <td>150.0</td>\n",
       "      <td>1.0</td>\n",
       "      <td>4.0</td>\n",
       "      <td>350.0</td>\n",
       "      <td>88.38</td>\n",
       "    </tr>\n",
       "    <tr>\n",
       "      <th>1775</th>\n",
       "      <td>9.000</td>\n",
       "      <td>7.300</td>\n",
       "      <td>158.0</td>\n",
       "      <td>1.8</td>\n",
       "      <td>7.2</td>\n",
       "      <td>280.0</td>\n",
       "      <td>88.20</td>\n",
       "    </tr>\n",
       "    <tr>\n",
       "      <th>1776</th>\n",
       "      <td>7.767</td>\n",
       "      <td>7.543</td>\n",
       "      <td>55.0</td>\n",
       "      <td>0.5</td>\n",
       "      <td>0.1</td>\n",
       "      <td>10.0</td>\n",
       "      <td>68.00</td>\n",
       "    </tr>\n",
       "  </tbody>\n",
       "</table>\n",
       "<p>1777 rows × 7 columns</p>\n",
       "</div>"
      ],
      "text/plain": [
       "          do     ph     co  bod   na      tc    wqi\n",
       "0      6.300  6.900  179.0  1.7  0.1  5330.0  79.28\n",
       "1      5.800  6.900   64.0  3.8  0.5  8443.0  69.34\n",
       "2      5.800  7.300   83.0  1.9  0.4  5500.0  77.14\n",
       "3      5.500  7.400   81.0  1.5  0.1  4049.0  77.14\n",
       "4      6.100  6.700  308.0  1.4  0.3  5672.0  75.44\n",
       "...      ...    ...    ...  ...  ...     ...    ...\n",
       "1772   4.600  3.000  350.0  6.2  2.2    49.0  56.18\n",
       "1773   8.800  7.000  172.0  1.6  5.0  2800.0  82.58\n",
       "1774  10.000  7.100  150.0  1.0  4.0   350.0  88.38\n",
       "1775   9.000  7.300  158.0  1.8  7.2   280.0  88.20\n",
       "1776   7.767  7.543   55.0  0.5  0.1    10.0  68.00\n",
       "\n",
       "[1777 rows x 7 columns]"
      ]
     },
     "execution_count": 127,
     "metadata": {},
     "output_type": "execute_result"
    }
   ],
   "source": [
    "df_new"
   ]
  },
  {
   "cell_type": "code",
   "execution_count": 128,
   "id": "bdeda5b7",
   "metadata": {},
   "outputs": [],
   "source": [
    "X=df_new.drop('wqi',axis=1)\n",
    "y=df_new['wqi']"
   ]
  },
  {
   "cell_type": "code",
   "execution_count": 129,
   "id": "eed240cb",
   "metadata": {},
   "outputs": [
    {
     "data": {
      "text/plain": [
       "(1332, 6)"
      ]
     },
     "execution_count": 129,
     "metadata": {},
     "output_type": "execute_result"
    }
   ],
   "source": [
    "X_train, X_test, y_train, y_test = train_test_split(X, y, test_size = 0.25,random_state=45)\n",
    "X_train.shape"
   ]
  },
  {
   "cell_type": "code",
   "execution_count": 130,
   "id": "8333753c",
   "metadata": {},
   "outputs": [
    {
     "data": {
      "text/plain": [
       "(445, 6)"
      ]
     },
     "execution_count": 130,
     "metadata": {},
     "output_type": "execute_result"
    }
   ],
   "source": [
    "X_test.shape"
   ]
  },
  {
   "cell_type": "code",
   "execution_count": 131,
   "id": "7fc2efc4",
   "metadata": {},
   "outputs": [
    {
     "name": "stdout",
     "output_type": "stream",
     "text": [
      "(445,)\n"
     ]
    }
   ],
   "source": [
    "#Applying Gradient Boosting\n",
    "from sklearn.ensemble import GradientBoostingRegressor\n",
    "from sklearn.datasets import make_regression\n",
    "gb = GradientBoostingRegressor(n_estimators=30, learning_rate=0.1, max_depth=6, random_state=42)\n",
    "gb.fit(X_train, y_train)\n",
    "y_predict = gb.predict(X_test)\n",
    "print(y_predict.shape)"
   ]
  },
  {
   "cell_type": "code",
   "execution_count": 132,
   "id": "887d1c89",
   "metadata": {},
   "outputs": [
    {
     "name": "stdout",
     "output_type": "stream",
     "text": [
      "RMSE = 4.913 \n",
      "MSE = 24.140820041979296 \n",
      "MAE = 2.311764694516421 \n",
      "R2 = 0.8860502151484754 \n",
      "Adjusted R2 = 0.8844892591916051\n"
     ]
    }
   ],
   "source": [
    "from sklearn.metrics import r2_score, mean_absolute_error, mean_squared_error\n",
    "from math import sqrt\n",
    "\n",
    "k = X_test.shape[1]\n",
    "n = len(X_test)\n",
    "from sklearn.metrics import r2_score, mean_squared_error, mean_absolute_error\n",
    "from math import sqrt\n",
    "\n",
    "RMSE = float(format(np.sqrt(mean_squared_error(y_test, y_predict)),'.3f'))\n",
    "MSE = mean_squared_error(y_test, y_predict)\n",
    "MAE = mean_absolute_error(y_test, y_predict)\n",
    "r2 = r2_score(y_test, y_predict)\n",
    "adj_r2 = 1-(1-r2)*(n-1)/(n-k-1)\n",
    "\n",
    "print('RMSE =',RMSE, '\\nMSE =',MSE, '\\nMAE =',MAE, '\\nR2 =', r2, '\\nAdjusted R2 =', adj_r2)\n"
   ]
  },
  {
   "cell_type": "code",
   "execution_count": 133,
   "id": "9dbe7502",
   "metadata": {},
   "outputs": [
    {
     "name": "stdout",
     "output_type": "stream",
     "text": [
      "Linear Model Coefficient (m):  [ 6.22628933e+00  3.48205024e+00  2.15507102e-05 -1.30276365e-01\n",
      " -5.17081388e-01 -8.55905032e-10]\n",
      "Linear Model Coefficient (b):  12.12801622277761\n"
     ]
    },
    {
     "data": {
      "text/plain": [
       "array([ 69.11358568,  47.15776728,  87.63338368,  77.00842963,\n",
       "        75.80868453,  80.94926525,  78.00494438,  72.98213396,\n",
       "        58.46244035,  81.45478867,  80.27206568,  76.0462846 ,\n",
       "        75.89718252,  74.69928675,  63.50360837,  68.70831539,\n",
       "        79.98142221,  77.20686304,  75.09972088,  55.27075549,\n",
       "        77.46753279,  75.36091078,  65.12100348,  80.76410107,\n",
       "        65.77095797,  81.7711108 ,  83.89967836,  69.50252584,\n",
       "        68.38517944,  76.57176261,  85.34529247,  82.68389847,\n",
       "        73.52534171,  82.58598762,  81.46269545,  75.11046074,\n",
       "        71.09805443,  82.4755499 ,  83.76308862,  62.73783614,\n",
       "        59.92787646,  63.01992149,  78.012894  ,  84.77164459,\n",
       "        79.28210821,  65.35942822,  83.58085264,  81.14752515,\n",
       "        80.86758596,  73.26339009,  75.07519033,  85.31352282,\n",
       "        73.71461732, 107.18552972,  79.77075038,  81.28851573,\n",
       "        77.3632903 ,  72.64166303,  79.00964015,  76.74847721,\n",
       "        76.64796718,  78.72895048,  77.3357857 ,  81.17857329,\n",
       "        74.90906869,  73.34189484,  78.9404556 ,  78.62477196,\n",
       "        83.2344104 ,  88.65411335,  85.62530205,  72.48991017,\n",
       "        78.10810233,  35.55586412,  81.62312645,  74.57764909,\n",
       "        82.76484965,  95.57870921,  57.60292175,  84.72951084,\n",
       "        45.47389018,  79.14161843,  76.79914256,  82.86837767,\n",
       "        82.8409843 ,  86.08911208,  70.04989077,  60.35082009,\n",
       "        85.32268521,  78.52954452,  84.32044517,  81.43559847,\n",
       "        85.18962427,  59.15803444,  89.6295083 ,  70.15660333,\n",
       "        89.35173016,  69.51472084,  59.34288369,  24.7185709 ,\n",
       "        79.29160801,  37.66928962,  73.94959942,  71.42649883,\n",
       "        84.11615288,  73.9534898 ,  78.63051993,  81.68266617,\n",
       "        72.9808589 ,  80.84638508,  82.39880002,  73.58894593,\n",
       "        80.92854875,  74.0022023 ,  81.23139178,  79.50990054,\n",
       "        72.18550798,  76.30735914,  82.50369534,  77.81644694,\n",
       "        77.44659412,  72.21371909,  75.03621812,  71.42309326,\n",
       "        70.56529869,  80.26661102,  78.19467014,  79.66591685,\n",
       "        80.01537508,  85.55041978,  83.67158665,  79.86533721,\n",
       "        80.92717011,  64.66216071,  78.18416348,  70.52183499,\n",
       "        77.05971305,  80.29371647,  77.55927343,  78.36163399,\n",
       "        75.24648546,  84.01157275,  75.39398373,  81.12778594,\n",
       "        81.18849897,  77.39868456,  71.61939624,  80.35283502,\n",
       "        80.80216535,  78.68286873,  97.45057055,  77.15035034,\n",
       "        81.73854266,  73.59633441,  78.57032344,  51.32546535,\n",
       "        87.40349541,  83.9211165 ,  74.89803664,  76.9326545 ,\n",
       "        77.42318979,  76.98529132,  75.17291498,  80.78581166,\n",
       "        85.14480916,  84.46551142,  76.93169964,  82.72210158,\n",
       "        41.90150499,  81.23134532,  60.2609504 ,  92.06806904,\n",
       "        69.64208572,  68.49977491,  78.93713135,  79.34341729,\n",
       "        80.66564297,  63.17180578,  78.49505681,  75.08122585,\n",
       "        70.387485  ,  75.55153737,  87.14082983,  64.42533617,\n",
       "        78.23623629,  68.95415383,  80.14067873,  66.76576433,\n",
       "        80.69806773,  80.50637619,  74.79417522,  74.90428156,\n",
       "        81.95836402,  83.94722773,  75.2272762 ,  79.69996329,\n",
       "        81.82425134,  87.70471408,  86.08473645,  49.27734807,\n",
       "        77.15669398,  75.53161436,  56.35704483,  89.50775026,\n",
       "        73.85861625,  80.21239206,  76.94033147,  80.64799824,\n",
       "        81.10066225,  81.77634446,  80.25391152,  79.11565312,\n",
       "        78.99170998,  45.85642008,  72.61239078,  82.19824591,\n",
       "        81.2572018 ,  85.93045003,  43.17913277,  81.03911959,\n",
       "        68.3917181 ,  76.59004848,  81.66077014,  37.16543172,\n",
       "        90.13464734,  81.68183762,  60.01093202,  77.11239854,\n",
       "        81.52524815,  83.10793709,  65.78551381,  80.23894402,\n",
       "        81.82328919,  77.57243041,  77.23143949,  91.61980354,\n",
       "        76.25382343,  71.49290015,  78.85110524,  83.91522192,\n",
       "        77.34324939,  66.28927202,  70.70074342,  65.53707435,\n",
       "        79.29160801,  69.56823926,  85.19945384,  73.44054439,\n",
       "        77.23920148,  77.45379215,  75.95015347,  80.28469933,\n",
       "        76.28673747,  51.31902485,  63.62341833,  75.17415913,\n",
       "        74.94670411,  87.56220315,  76.69386979,  83.59121245,\n",
       "        77.42110362,  75.17174402,  79.63572752,  76.57683278,\n",
       "        90.18626313,  79.90829914,  76.74055859,  79.73468643,\n",
       "        79.34592371,  82.50217712,  79.68154862,  68.76791011,\n",
       "        72.70078933,  70.18592985,  73.70847025,  84.64123601,\n",
       "        85.43080816,  82.90347555,  78.30331347,  52.74108744,\n",
       "        74.20372164,  78.58297879,  69.58997682,  72.03853223,\n",
       "        69.68216268,  73.7143255 ,  80.28661878,  76.03270375,\n",
       "        79.80805642,  82.22298554,  81.08886905,  78.20850326,\n",
       "        75.06970817,  80.48570732,  83.74133979,  80.92643373,\n",
       "        78.40571948,  67.71186674,  36.02330003,  76.40393748,\n",
       "        75.29573954,  64.95544433,  75.74087459,  84.09468088,\n",
       "        79.26183004,  84.03455904,  81.41210106,  77.28556058,\n",
       "        78.48996745,  82.95643478,  78.49353251,  66.71186746,\n",
       "        80.09852286,  75.78970488,  81.10667348,  78.5075796 ,\n",
       "        76.08884987,  69.49997908,  79.50290838,  80.69819717,\n",
       "        76.57056789,  79.73289185,  62.81597648,  74.43432523,\n",
       "        75.49495039,  78.28091693,  72.96364075,  90.64979134,\n",
       "        73.17613958,  78.08923225,  56.93869451,  84.10557866,\n",
       "        74.24774467,  79.30736475,  82.78448514,  80.08402242,\n",
       "        70.52132152,  81.29824171,  77.44653176,  90.30973049,\n",
       "        57.64245118,  79.10713595,  79.51845983,  66.91291797,\n",
       "        87.44191341,  71.8542483 ,  81.32244335,  80.51458916,\n",
       "        72.48593651,  69.23291697,  78.65112871,  79.99361713,\n",
       "        55.7005772 ,  75.78477336,  80.90180292,  94.50333888,\n",
       "        90.38539145,  80.02033307,  52.57209129,  78.12072498,\n",
       "        75.1747222 ,  80.42218794,  65.47805172,  86.71051905,\n",
       "        91.14130343,  59.72386785,  85.5262508 ,  81.73946456,\n",
       "        75.42867605,  76.50682285,  67.32159532,  72.53361739,\n",
       "        71.83283896,  78.92484503,  81.47321924,  84.13703103,\n",
       "        48.90232236,  60.94626517,  74.61923876,  62.39399686,\n",
       "        90.71566665,  73.34615993,  82.05657698,  68.03415628,\n",
       "        81.87700208,  81.28197867,  72.94484374,  39.35230841,\n",
       "        88.61610798,  79.7615085 ,  74.92603445,  66.64043791,\n",
       "        80.14132226,  76.89093545,  77.23933221,  69.57607366,\n",
       "        54.08711125,  69.55506927,  82.94870246,  87.0005817 ,\n",
       "        60.50513325,  77.83944986,  85.87130448,  78.35692123,\n",
       "        71.90679982,  81.38454488,  57.88548604,  78.24667073,\n",
       "        78.14411546,  80.00286599,  68.3799232 ,  82.36386416,\n",
       "        73.18039253,  78.41343836,  86.54815074,  79.41154388,\n",
       "        68.91311737,  72.44422839,  81.20186406,  71.58739204,\n",
       "        72.79055636,  53.32805356,  73.54420886,  79.86703487,\n",
       "        73.6200587 ,  65.63659505,  82.57848862,  83.38285557,\n",
       "        82.18571211,  73.06206943,  76.97393933,  72.26314156,\n",
       "        83.76840824,  71.27643277,  53.82294175,  78.45614171,\n",
       "        44.88802189,  98.31236556,  81.42950604,  75.21377088,\n",
       "        78.534424  ,  63.29390524,  91.82363553,  81.76447297,\n",
       "        81.76941691])"
      ]
     },
     "execution_count": 133,
     "metadata": {},
     "output_type": "execute_result"
    }
   ],
   "source": [
    "#Applying Lasso\n",
    "from sklearn.linear_model import Lasso\n",
    "regressor_lasso = Lasso(alpha = 0.01)\n",
    "regressor_lasso.fit(X_train,y_train)\n",
    "print('Linear Model Coefficient (m): ', regressor_lasso.coef_)\n",
    "print('Linear Model Coefficient (b): ', regressor_lasso.intercept_)\n",
    "\n",
    "y_predict = regressor_lasso.predict( X_test)\n",
    "y_predict"
   ]
  },
  {
   "cell_type": "code",
   "execution_count": 134,
   "id": "1698de6c",
   "metadata": {},
   "outputs": [
    {
     "name": "stdout",
     "output_type": "stream",
     "text": [
      "RMSE = 10.777 \n",
      "MSE = 116.13868429884187 \n",
      "MAE = 7.481020088557802 \n",
      "R2 = 0.45180080602982187 \n",
      "Adjusted R2 = 0.44429122803023036\n"
     ]
    }
   ],
   "source": [
    "from sklearn.metrics import r2_score, mean_squared_error, mean_absolute_error\n",
    "from math import sqrt\n",
    "\n",
    "RMSE = float(format(np.sqrt(mean_squared_error(y_test, y_predict)),'.3f'))\n",
    "MSE = mean_squared_error(y_test, y_predict)\n",
    "MAE = mean_absolute_error(y_test, y_predict)\n",
    "r2 = r2_score(y_test, y_predict)\n",
    "adj_r2 = 1-(1-r2)*(n-1)/(n-k-1)\n",
    "\n",
    "print('RMSE =',RMSE, '\\nMSE =',MSE, '\\nMAE =',MAE, '\\nR2 =', r2, '\\nAdjusted R2 =', adj_r2)\n"
   ]
  },
  {
   "cell_type": "code",
   "execution_count": 135,
   "id": "6ed43077",
   "metadata": {},
   "outputs": [],
   "source": [
    "#Applying K-Nearest Neighbors\n",
    "from sklearn.neighbors import KNeighborsRegressor\n",
    "from sklearn.datasets import make_regression\n",
    "knn = KNeighborsRegressor(n_neighbors=10)\n"
   ]
  },
  {
   "cell_type": "code",
   "execution_count": 136,
   "id": "393906bb",
   "metadata": {},
   "outputs": [
    {
     "data": {
      "text/plain": [
       "(445,)"
      ]
     },
     "execution_count": 136,
     "metadata": {},
     "output_type": "execute_result"
    }
   ],
   "source": [
    "knn.fit(X_train, y_train)\n",
    "\n",
    "# Make predictions on the testing data\n",
    "y_predict = knn.predict(X_test)\n",
    "y_predict.shape"
   ]
  },
  {
   "cell_type": "code",
   "execution_count": 137,
   "id": "4378ae02",
   "metadata": {},
   "outputs": [
    {
     "name": "stdout",
     "output_type": "stream",
     "text": [
      "RMSE = 11.362 \n",
      "MSE = 129.0948693213483 \n",
      "MAE = 7.796449438202248 \n",
      "R2 = 0.3906448679447083 \n",
      "Adjusted R2 = 0.3822975373686084\n"
     ]
    }
   ],
   "source": [
    "k = X_test.shape[1]\n",
    "n = len(X_test)\n",
    "from math import sqrt\n",
    "\n",
    "RMSE = float(format(np.sqrt(mean_squared_error(y_test, y_predict)),'.3f'))\n",
    "MSE = mean_squared_error(y_test, y_predict)\n",
    "MAE = mean_absolute_error(y_test, y_predict)\n",
    "r2 = r2_score(y_test, y_predict)\n",
    "adj_r2 = 1-(1-r2)*(n-1)/(n-k-1)\n",
    "\n",
    "print('RMSE =',RMSE, '\\nMSE =',MSE, '\\nMAE =',MAE, '\\nR2 =', r2, '\\nAdjusted R2 =', adj_r2)\n"
   ]
  },
  {
   "cell_type": "code",
   "execution_count": 138,
   "id": "21275f65",
   "metadata": {},
   "outputs": [
    {
     "name": "stdout",
     "output_type": "stream",
     "text": [
      "Linear Model Coefficient (m):  [ 6.23139756e+00  3.50397651e+00  2.15469613e-05 -1.30265284e-01\n",
      " -5.17557748e-01 -8.07261517e-10]\n",
      "Linear Model Coefficient (b):  11.93797416121292\n"
     ]
    }
   ],
   "source": [
    "#Ridge\n",
    "from sklearn.linear_model import Lasso, Ridge\n",
    "regressor_ridge = Ridge(alpha = 0.001)\n",
    "regressor_ridge.fit(X_train, y_train)\n",
    "print('Linear Model Coefficient (m): ', regressor_ridge.coef_)\n",
    "print('Linear Model Coefficient (b): ', regressor_ridge.intercept_)\n",
    "y_predict = regressor_ridge.predict( X_test)\n"
   ]
  },
  {
   "cell_type": "code",
   "execution_count": 139,
   "id": "bf80e424",
   "metadata": {},
   "outputs": [
    {
     "name": "stdout",
     "output_type": "stream",
     "text": [
      "RMSE = 10.778 \n",
      "MSE = 116.15715743148037 \n",
      "MAE = 7.480012514987776 \n",
      "R2 = 0.4517136089302193 \n",
      "Adjusted R2 = 0.4442028364498113\n"
     ]
    }
   ],
   "source": [
    "k = X_test.shape[1]\n",
    "n = len(X_test)\n",
    "RMSE = float(format(np.sqrt(mean_squared_error(y_test, y_predict)),'.3f'))\n",
    "MSE = mean_squared_error(y_test, y_predict)\n",
    "MAE = mean_absolute_error(y_test, y_predict)\n",
    "r2 = r2_score(y_test, y_predict)\n",
    "adj_r2 = 1-(1-r2)*(n-1)/(n-k-1)\n",
    "\n",
    "print('RMSE =',RMSE, '\\nMSE =',MSE, '\\nMAE =',MAE, '\\nR2 =', r2, '\\nAdjusted R2 =', adj_r2)"
   ]
  },
  {
   "cell_type": "code",
   "execution_count": 140,
   "id": "39b94c2d",
   "metadata": {},
   "outputs": [
    {
     "name": "stdout",
     "output_type": "stream",
     "text": [
      "Mean Squared Error (MSE): 13361.597821539695\n",
      "R-squared (R2) Score: -62.0695723835989\n"
     ]
    }
   ],
   "source": [
    "#Applying ANN\n",
    "from sklearn.neural_network import MLPRegressor\n",
    "# Create and configure the ANN model\n",
    "model = MLPRegressor(hidden_layer_sizes=(20,16), activation='relu', solver='adam', random_state=42)\n",
    "\n",
    "# Fit the model to the training data\n",
    "model.fit(X_train, y_train)\n",
    "\n",
    "# Perform prediction on the test set\n",
    "y_pred = model.predict(X_test)\n",
    "\n",
    "# Evaluate the model\n",
    "mse = mean_squared_error(y_test, y_pred)\n",
    "r2 = r2_score(y_test, y_pred)\n",
    "\n",
    "print('Mean Squared Error (MSE):', mse)\n",
    "print('R-squared (R2) Score:', r2)"
   ]
  },
  {
   "cell_type": "code",
   "execution_count": 141,
   "id": "e1438fba",
   "metadata": {},
   "outputs": [],
   "source": [
    "#Normalizing DataSet\n",
    "from sklearn.preprocessing import MinMaxScaler\n",
    "\n",
    "scaler = MinMaxScaler()\n",
    "\n",
    "# Fit the scaler to the data and transform the features\n",
    "X_train_scaled = scaler.fit_transform(X_train)\n",
    "\n",
    "# Transform the testing data using the fitted scaler\n",
    "X_test_scaled = scaler.transform(X_test)"
   ]
  },
  {
   "cell_type": "code",
   "execution_count": 142,
   "id": "0eb4800a",
   "metadata": {},
   "outputs": [
    {
     "data": {
      "text/plain": [
       "(445, 6)"
      ]
     },
     "execution_count": 142,
     "metadata": {},
     "output_type": "execute_result"
    }
   ],
   "source": [
    "X_test_scaled.shape"
   ]
  },
  {
   "cell_type": "code",
   "execution_count": 143,
   "id": "79e4ef0b",
   "metadata": {},
   "outputs": [
    {
     "data": {
      "text/plain": [
       "(1332, 6)"
      ]
     },
     "execution_count": 143,
     "metadata": {},
     "output_type": "execute_result"
    }
   ],
   "source": [
    "X_train_scaled.shape"
   ]
  },
  {
   "cell_type": "code",
   "execution_count": 144,
   "id": "7cfe1ae1",
   "metadata": {},
   "outputs": [
    {
     "data": {
      "text/html": [
       "<div>\n",
       "<style scoped>\n",
       "    .dataframe tbody tr th:only-of-type {\n",
       "        vertical-align: middle;\n",
       "    }\n",
       "\n",
       "    .dataframe tbody tr th {\n",
       "        vertical-align: top;\n",
       "    }\n",
       "\n",
       "    .dataframe thead th {\n",
       "        text-align: right;\n",
       "    }\n",
       "</style>\n",
       "<table border=\"1\" class=\"dataframe\">\n",
       "  <thead>\n",
       "    <tr style=\"text-align: right;\">\n",
       "      <th></th>\n",
       "      <th>do</th>\n",
       "      <th>ph</th>\n",
       "      <th>co</th>\n",
       "      <th>bod</th>\n",
       "      <th>na</th>\n",
       "      <th>tc</th>\n",
       "    </tr>\n",
       "  </thead>\n",
       "  <tbody>\n",
       "    <tr>\n",
       "      <th>1140</th>\n",
       "      <td>5.6</td>\n",
       "      <td>6.400</td>\n",
       "      <td>7904.0</td>\n",
       "      <td>1.000</td>\n",
       "      <td>0.40</td>\n",
       "      <td>278.0</td>\n",
       "    </tr>\n",
       "    <tr>\n",
       "      <th>1124</th>\n",
       "      <td>2.2</td>\n",
       "      <td>6.400</td>\n",
       "      <td>625.0</td>\n",
       "      <td>2.300</td>\n",
       "      <td>1.29</td>\n",
       "      <td>6505.0</td>\n",
       "    </tr>\n",
       "    <tr>\n",
       "      <th>654</th>\n",
       "      <td>7.7</td>\n",
       "      <td>8.100</td>\n",
       "      <td>312.0</td>\n",
       "      <td>2.000</td>\n",
       "      <td>0.75</td>\n",
       "      <td>32017.0</td>\n",
       "    </tr>\n",
       "    <tr>\n",
       "      <th>1318</th>\n",
       "      <td>6.2</td>\n",
       "      <td>7.600</td>\n",
       "      <td>498.0</td>\n",
       "      <td>0.400</td>\n",
       "      <td>0.28</td>\n",
       "      <td>1400.0</td>\n",
       "    </tr>\n",
       "    <tr>\n",
       "      <th>1602</th>\n",
       "      <td>6.4</td>\n",
       "      <td>7.000</td>\n",
       "      <td>112.0</td>\n",
       "      <td>1.400</td>\n",
       "      <td>0.70</td>\n",
       "      <td>5725.0</td>\n",
       "    </tr>\n",
       "    <tr>\n",
       "      <th>...</th>\n",
       "      <td>...</td>\n",
       "      <td>...</td>\n",
       "      <td>...</td>\n",
       "      <td>...</td>\n",
       "      <td>...</td>\n",
       "      <td>...</td>\n",
       "    </tr>\n",
       "    <tr>\n",
       "      <th>820</th>\n",
       "      <td>7.3</td>\n",
       "      <td>6.100</td>\n",
       "      <td>87.0</td>\n",
       "      <td>0.900</td>\n",
       "      <td>0.33</td>\n",
       "      <td>169.0</td>\n",
       "    </tr>\n",
       "    <tr>\n",
       "      <th>959</th>\n",
       "      <td>5.7</td>\n",
       "      <td>7.500</td>\n",
       "      <td>906.0</td>\n",
       "      <td>24.000</td>\n",
       "      <td>14.18</td>\n",
       "      <td>17625.0</td>\n",
       "    </tr>\n",
       "    <tr>\n",
       "      <th>1377</th>\n",
       "      <td>8.7</td>\n",
       "      <td>7.400</td>\n",
       "      <td>318.0</td>\n",
       "      <td>1.500</td>\n",
       "      <td>0.10</td>\n",
       "      <td>132.0</td>\n",
       "    </tr>\n",
       "    <tr>\n",
       "      <th>1700</th>\n",
       "      <td>7.1</td>\n",
       "      <td>7.507</td>\n",
       "      <td>102.5</td>\n",
       "      <td>4.633</td>\n",
       "      <td>0.21</td>\n",
       "      <td>152.0</td>\n",
       "    </tr>\n",
       "    <tr>\n",
       "      <th>1571</th>\n",
       "      <td>7.2</td>\n",
       "      <td>7.200</td>\n",
       "      <td>70.0</td>\n",
       "      <td>1.600</td>\n",
       "      <td>0.10</td>\n",
       "      <td>2887.0</td>\n",
       "    </tr>\n",
       "  </tbody>\n",
       "</table>\n",
       "<p>445 rows × 6 columns</p>\n",
       "</div>"
      ],
      "text/plain": [
       "       do     ph      co     bod     na       tc\n",
       "1140  5.6  6.400  7904.0   1.000   0.40    278.0\n",
       "1124  2.2  6.400   625.0   2.300   1.29   6505.0\n",
       "654   7.7  8.100   312.0   2.000   0.75  32017.0\n",
       "1318  6.2  7.600   498.0   0.400   0.28   1400.0\n",
       "1602  6.4  7.000   112.0   1.400   0.70   5725.0\n",
       "...   ...    ...     ...     ...    ...      ...\n",
       "820   7.3  6.100    87.0   0.900   0.33    169.0\n",
       "959   5.7  7.500   906.0  24.000  14.18  17625.0\n",
       "1377  8.7  7.400   318.0   1.500   0.10    132.0\n",
       "1700  7.1  7.507   102.5   4.633   0.21    152.0\n",
       "1571  7.2  7.200    70.0   1.600   0.10   2887.0\n",
       "\n",
       "[445 rows x 6 columns]"
      ]
     },
     "execution_count": 144,
     "metadata": {},
     "output_type": "execute_result"
    }
   ],
   "source": [
    "X_test"
   ]
  },
  {
   "cell_type": "code",
   "execution_count": 145,
   "id": "fd315d77",
   "metadata": {},
   "outputs": [
    {
     "data": {
      "text/plain": [
       "array([[4.91228070e-01, 7.10321865e-01, 1.20157104e-01, 1.68413174e-03,\n",
       "        3.67985281e-03, 5.43934581e-07],\n",
       "       [1.92982456e-01, 7.10321865e-01, 9.34707485e-03, 4.11676647e-03,\n",
       "        1.18675253e-02, 1.27276779e-05],\n",
       "       [6.75438596e-01, 8.99001110e-01, 4.58219793e-03, 3.55538922e-03,\n",
       "        6.89972401e-03, 6.26444370e-05],\n",
       "       ...,\n",
       "       [7.63157895e-01, 8.21309656e-01, 4.67353743e-03, 2.61976048e-03,\n",
       "        9.19963201e-04, 2.58271096e-07],\n",
       "       [6.22807018e-01, 8.33185350e-01, 1.39292728e-03, 8.48241018e-03,\n",
       "        1.93192272e-03, 2.97403080e-07],\n",
       "       [6.31578947e-01, 7.99112098e-01, 8.98171688e-04, 2.80688623e-03,\n",
       "        9.19963201e-04, 5.64870193e-06]])"
      ]
     },
     "execution_count": 145,
     "metadata": {},
     "output_type": "execute_result"
    }
   ],
   "source": [
    "X_test_scaled"
   ]
  },
  {
   "cell_type": "code",
   "execution_count": 146,
   "id": "f01c5276",
   "metadata": {},
   "outputs": [
    {
     "name": "stdout",
     "output_type": "stream",
     "text": [
      "Linear Model Coefficient (m):  [ 71.06348463  29.49238212   0.         -66.14841095 -49.43623404\n",
      "  -0.        ]\n",
      "Linear Model Coefficient (b):  13.473790650456131\n",
      "RMSE = 10.757 \n",
      "MSE = 115.70415600624281 \n",
      "MAE = 7.517352080404506 \n",
      "R2 = 0.45385187162608 \n",
      "Adjusted R2 = 0.4463703904154783\n"
     ]
    }
   ],
   "source": [
    "#Applying Lasso On Normalized Data\n",
    "from sklearn.linear_model import Lasso\n",
    "regressor_lasso = Lasso(alpha = 0.01)\n",
    "regressor_lasso.fit(X_train_scaled,y_train)\n",
    "print('Linear Model Coefficient (m): ', regressor_lasso.coef_)\n",
    "print('Linear Model Coefficient (b): ', regressor_lasso.intercept_)\n",
    "\n",
    "y_predict = regressor_lasso.predict( X_test_scaled)\n",
    "\n",
    "RMSE = float(format(np.sqrt(mean_squared_error(y_test, y_predict)),'.3f'))\n",
    "MSE = mean_squared_error(y_test, y_predict)\n",
    "MAE = mean_absolute_error(y_test, y_predict)\n",
    "r2 = r2_score(y_test, y_predict)\n",
    "adj_r2 = 1-(1-r2)*(n-1)/(n-k-1)\n",
    "\n",
    "print('RMSE =',RMSE, '\\nMSE =',MSE, '\\nMAE =',MAE, '\\nR2 =', r2, '\\nAdjusted R2 =', adj_r2)\n"
   ]
  },
  {
   "cell_type": "code",
   "execution_count": 147,
   "id": "06d7146c",
   "metadata": {},
   "outputs": [
    {
     "name": "stdout",
     "output_type": "stream",
     "text": [
      "Mean Squared Error (MSE): 102.45917909693185\n",
      "R-squared (R2) Score: 0.5163709685977194\n"
     ]
    }
   ],
   "source": [
    "model = MLPRegressor(hidden_layer_sizes=(50,40,25), activation='relu', solver='adam',max_iter=1000, random_state=42)\n",
    "\n",
    "# Fit the model to the training data\n",
    "model.fit(X_train_scaled, y_train)\n",
    "\n",
    "# Perform prediction on the test set\n",
    "y_pred = model.predict(X_test_scaled)\n",
    "\n",
    "# Evaluate the model\n",
    "mse = mean_squared_error(y_test, y_pred)\n",
    "r2 = r2_score(y_test, y_pred)\n",
    "\n",
    "print('Mean Squared Error (MSE):', mse)\n",
    "print('R-squared (R2) Score:', r2)"
   ]
  },
  {
   "cell_type": "code",
   "execution_count": 148,
   "id": "e22e54fb",
   "metadata": {},
   "outputs": [
    {
     "name": "stdout",
     "output_type": "stream",
     "text": [
      "Linear Model Coefficient (m):  [ 8.37665108e+00  2.35051787e+00  1.12778921e-01 -3.62623354e+00\n",
      " -2.12450493e+00 -6.01745709e-03]\n",
      "Linear Model Coefficient (b):  75.03945945945945\n",
      "RMSE = 10.776 \n",
      "MSE = 116.11926615949294 \n",
      "MAE = 7.481659876212993 \n",
      "R2 = 0.4518924637612982 \n",
      "Adjusted R2 = 0.4443841413470694\n"
     ]
    }
   ],
   "source": [
    "#Standard Scaler\n",
    "from sklearn.preprocessing import StandardScaler\n",
    "scaler = StandardScaler()\n",
    "\n",
    "# Fit the scaler to the training data and transform it\n",
    "X_train_scaled = scaler.fit_transform(X_train)\n",
    "\n",
    "# Transform the testing data using the fit\n",
    "X_test_scaled = scaler.transform(X_test)\n",
    "\n",
    "regressor_lasso = Lasso(alpha = 0.01)\n",
    "regressor_lasso.fit(X_train_scaled,y_train)\n",
    "print('Linear Model Coefficient (m): ', regressor_lasso.coef_)\n",
    "print('Linear Model Coefficient (b): ', regressor_lasso.intercept_)\n",
    "\n",
    "y_predict = regressor_lasso.predict( X_test_scaled)\n",
    "\n",
    "RMSE = float(format(np.sqrt(mean_squared_error(y_test, y_predict)),'.3f'))\n",
    "MSE = mean_squared_error(y_test, y_predict)\n",
    "MAE = mean_absolute_error(y_test, y_predict)\n",
    "r2 = r2_score(y_test, y_predict)\n",
    "adj_r2 = 1-(1-r2)*(n-1)/(n-k-1)\n",
    "\n",
    "print('RMSE =',RMSE, '\\nMSE =',MSE, '\\nMAE =',MAE, '\\nR2 =', r2, '\\nAdjusted R2 =', adj_r2)\n"
   ]
  },
  {
   "cell_type": "code",
   "execution_count": 149,
   "id": "f51fb2b1",
   "metadata": {},
   "outputs": [
    {
     "name": "stdout",
     "output_type": "stream",
     "text": [
      "RMSE = 5.034 \n",
      "MSE = 25.3453993621331 \n",
      "MAE = 2.3910888302945055 \n",
      "R2 = 0.8803643455661897 \n",
      "Adjusted R2 = 0.8787255009849047\n"
     ]
    }
   ],
   "source": [
    "gb = GradientBoostingRegressor(n_estimators=30, learning_rate=0.1, max_depth=6, random_state=42)\n",
    "gb.fit(X_train_scaled, y_train)\n",
    "y_predict = gb.predict(X_test_scaled)\n",
    "\n",
    "k = X_test.shape[1]\n",
    "n = len(X_test)\n",
    "from sklearn.metrics import r2_score, mean_squared_error, mean_absolute_error\n",
    "from math import sqrt\n",
    "\n",
    "RMSE = float(format(np.sqrt(mean_squared_error(y_test, y_predict)),'.3f'))\n",
    "MSE = mean_squared_error(y_test, y_predict)\n",
    "MAE = mean_absolute_error(y_test, y_predict)\n",
    "r2 = r2_score(y_test, y_predict)\n",
    "adj_r2 = 1-(1-r2)*(n-1)/(n-k-1)\n",
    "\n",
    "print('RMSE =',RMSE, '\\nMSE =',MSE, '\\nMAE =',MAE, '\\nR2 =', r2, '\\nAdjusted R2 =', adj_r2)\n"
   ]
  },
  {
   "cell_type": "code",
   "execution_count": 151,
   "id": "3fdae140",
   "metadata": {},
   "outputs": [
    {
     "data": {
      "image/png": "[encoded data removed]",
      "text/plain": [
       "<Figure size 504x360 with 1 Axes>"
      ]
     },
     "metadata": {
      "needs_background": "light"
     },
     "output_type": "display_data"
    },
    {
     "data": {
      "image/png": "[encoded data removed]",
      "text/plain": [
       "<Figure size 504x360 with 1 Axes>"
      ]
     },
     "metadata": {
      "needs_background": "light"
     },
     "output_type": "display_data"
    },
    {
     "data": {
      "image/png": "[encoded data removed]",
      "text/plain": [
       "<Figure size 504x360 with 1 Axes>"
      ]
     },
     "metadata": {
      "needs_background": "light"
     },
     "output_type": "display_data"
    },
    {
     "data": {
      "image/png": "[encoded data removed]",
      "text/plain": [
       "<Figure size 504x360 with 1 Axes>"
      ]
     },
     "metadata": {
      "needs_background": "light"
     },
     "output_type": "display_data"
    },
    {
     "data": {
      "image/png": "[encoded data removed]",
      "text/plain": [
       "<Figure size 504x360 with 1 Axes>"
      ]
     },
     "metadata": {
      "needs_background": "light"
     },
     "output_type": "display_data"
    },
    {
     "data": {
      "image/png": "[encoded data removed]",
      "text/plain": [
       "<Figure size 504x360 with 1 Axes>"
      ]
     },
     "metadata": {
      "needs_background": "light"
     },
     "output_type": "display_data"
    },
    {
     "data": {
      "image/png": "[encoded data removed]",
      "text/plain": [
       "<Figure size 504x360 with 1 Axes>"
      ]
     },
     "metadata": {
      "needs_background": "light"
     },
     "output_type": "display_data"
    }
   ],
   "source": [
    "def plot_kde(df_new):\n",
    "    n_col = df_new.shape[1]\n",
    "    for index in range(n_col):\n",
    "        col_index = df_new.iloc[:,index]\n",
    "        fig, ax = plt.subplots(1,1, figsize =(7,5))\n",
    "        sns.kdeplot(data=df_new,x=col_index.name)\n",
    "        \n",
    "plot_kde(df_new)"
   ]
  },
  {
   "cell_type": "code",
   "execution_count": 154,
   "id": "35874fff",
   "metadata": {
    "scrolled": true
   },
   "outputs": [
    {
     "name": "stdout",
     "output_type": "stream",
     "text": [
      "Number of outliers using Z-Score method- 114\n"
     ]
    },
    {
     "data": {
      "text/html": [
       "<div>\n",
       "<style scoped>\n",
       "    .dataframe tbody tr th:only-of-type {\n",
       "        vertical-align: middle;\n",
       "    }\n",
       "\n",
       "    .dataframe tbody tr th {\n",
       "        vertical-align: top;\n",
       "    }\n",
       "\n",
       "    .dataframe thead th {\n",
       "        text-align: right;\n",
       "    }\n",
       "</style>\n",
       "<table border=\"1\" class=\"dataframe\">\n",
       "  <thead>\n",
       "    <tr style=\"text-align: right;\">\n",
       "      <th></th>\n",
       "      <th>do</th>\n",
       "      <th>ph</th>\n",
       "      <th>co</th>\n",
       "      <th>bod</th>\n",
       "      <th>na</th>\n",
       "      <th>tc</th>\n",
       "      <th>wqi</th>\n",
       "    </tr>\n",
       "  </thead>\n",
       "  <tbody>\n",
       "    <tr>\n",
       "      <th>737</th>\n",
       "      <td>11.10</td>\n",
       "      <td>7.60</td>\n",
       "      <td>131.0</td>\n",
       "      <td>3.6</td>\n",
       "      <td>0.10</td>\n",
       "      <td>32.0</td>\n",
       "      <td>86.52</td>\n",
       "    </tr>\n",
       "    <tr>\n",
       "      <th>741</th>\n",
       "      <td>11.40</td>\n",
       "      <td>7.20</td>\n",
       "      <td>128.0</td>\n",
       "      <td>1.0</td>\n",
       "      <td>0.10</td>\n",
       "      <td>20.0</td>\n",
       "      <td>91.20</td>\n",
       "    </tr>\n",
       "    <tr>\n",
       "      <th>35</th>\n",
       "      <td>5.30</td>\n",
       "      <td>7.70</td>\n",
       "      <td>24062.0</td>\n",
       "      <td>9.9</td>\n",
       "      <td>1.20</td>\n",
       "      <td>304.0</td>\n",
       "      <td>72.68</td>\n",
       "    </tr>\n",
       "    <tr>\n",
       "      <th>86</th>\n",
       "      <td>3.70</td>\n",
       "      <td>7.70</td>\n",
       "      <td>32005.0</td>\n",
       "      <td>1.2</td>\n",
       "      <td>0.90</td>\n",
       "      <td>60392.0</td>\n",
       "      <td>53.94</td>\n",
       "    </tr>\n",
       "    <tr>\n",
       "      <th>106</th>\n",
       "      <td>5.60</td>\n",
       "      <td>7.20</td>\n",
       "      <td>24360.0</td>\n",
       "      <td>2.1</td>\n",
       "      <td>0.30</td>\n",
       "      <td>447.0</td>\n",
       "      <td>82.04</td>\n",
       "    </tr>\n",
       "    <tr>\n",
       "      <th>...</th>\n",
       "      <td>...</td>\n",
       "      <td>...</td>\n",
       "      <td>...</td>\n",
       "      <td>...</td>\n",
       "      <td>...</td>\n",
       "      <td>...</td>\n",
       "      <td>...</td>\n",
       "    </tr>\n",
       "    <tr>\n",
       "      <th>1762</th>\n",
       "      <td>4.05</td>\n",
       "      <td>7.85</td>\n",
       "      <td>773.5</td>\n",
       "      <td>16.0</td>\n",
       "      <td>19.35</td>\n",
       "      <td>10.0</td>\n",
       "      <td>33.34</td>\n",
       "    </tr>\n",
       "    <tr>\n",
       "      <th>1763</th>\n",
       "      <td>6.25</td>\n",
       "      <td>7.90</td>\n",
       "      <td>770.0</td>\n",
       "      <td>14.0</td>\n",
       "      <td>19.40</td>\n",
       "      <td>10.0</td>\n",
       "      <td>61.44</td>\n",
       "    </tr>\n",
       "    <tr>\n",
       "      <th>170</th>\n",
       "      <td>0.90</td>\n",
       "      <td>7.60</td>\n",
       "      <td>2039.0</td>\n",
       "      <td>104.5</td>\n",
       "      <td>0.90</td>\n",
       "      <td>511090873.0</td>\n",
       "      <td>28.66</td>\n",
       "    </tr>\n",
       "    <tr>\n",
       "      <th>428</th>\n",
       "      <td>3.40</td>\n",
       "      <td>7.80</td>\n",
       "      <td>2577.0</td>\n",
       "      <td>164.9</td>\n",
       "      <td>1.50</td>\n",
       "      <td>160405392.0</td>\n",
       "      <td>30.54</td>\n",
       "    </tr>\n",
       "    <tr>\n",
       "      <th>681</th>\n",
       "      <td>0.20</td>\n",
       "      <td>7.20</td>\n",
       "      <td>2219.0</td>\n",
       "      <td>185.8</td>\n",
       "      <td>1.75</td>\n",
       "      <td>300000000.0</td>\n",
       "      <td>19.30</td>\n",
       "    </tr>\n",
       "  </tbody>\n",
       "</table>\n",
       "<p>114 rows × 7 columns</p>\n",
       "</div>"
      ],
      "text/plain": [
       "         do    ph       co    bod     na           tc    wqi\n",
       "737   11.10  7.60    131.0    3.6   0.10         32.0  86.52\n",
       "741   11.40  7.20    128.0    1.0   0.10         20.0  91.20\n",
       "35     5.30  7.70  24062.0    9.9   1.20        304.0  72.68\n",
       "86     3.70  7.70  32005.0    1.2   0.90      60392.0  53.94\n",
       "106    5.60  7.20  24360.0    2.1   0.30        447.0  82.04\n",
       "...     ...   ...      ...    ...    ...          ...    ...\n",
       "1762   4.05  7.85    773.5   16.0  19.35         10.0  33.34\n",
       "1763   6.25  7.90    770.0   14.0  19.40         10.0  61.44\n",
       "170    0.90  7.60   2039.0  104.5   0.90  511090873.0  28.66\n",
       "428    3.40  7.80   2577.0  164.9   1.50  160405392.0  30.54\n",
       "681    0.20  7.20   2219.0  185.8   1.75  300000000.0  19.30\n",
       "\n",
       "[114 rows x 7 columns]"
      ]
     },
     "execution_count": 154,
     "metadata": {},
     "output_type": "execute_result"
    }
   ],
   "source": [
    "from scipy.stats import zscore\n",
    "df_num_final_norm = zscore(df_new, axis=0)\n",
    "\n",
    "\n",
    "def indices_of_greater_than_3(df_norm):\n",
    "    df_norm = pd.DataFrame(df_norm)\n",
    "    indices_arr = []\n",
    "    n_col = df_norm.shape[1]\n",
    "    for index in range(n_col):\n",
    "        col_index = df_norm.iloc[: ,index]\n",
    "        greater_than_3 = df_norm[col_index > 3]\n",
    "        greater_than_3_index = greater_than_3.index\n",
    "        indices_arr.extend(greater_than_3_index)\n",
    "    return indices_arr\n",
    "\n",
    "indices_arr = indices_of_greater_than_3(df_num_final_norm)\n",
    "print(\"Number of outliers using Z-Score method-\",len(indices_arr))\n",
    "df_new.iloc[indices_arr, :]"
   ]
  },
  {
   "cell_type": "code",
   "execution_count": 155,
   "id": "7d31ebe5",
   "metadata": {},
   "outputs": [],
   "source": [
    "df_final = df_new.drop(indices_arr,axis=0)"
   ]
  },
  {
   "cell_type": "code",
   "execution_count": 156,
   "id": "056f4661",
   "metadata": {},
   "outputs": [
    {
     "data": {
      "text/plain": [
       "(1672, 7)"
      ]
     },
     "execution_count": 156,
     "metadata": {},
     "output_type": "execute_result"
    }
   ],
   "source": [
    "df_final.shape"
   ]
  },
  {
   "cell_type": "code",
   "execution_count": 157,
   "id": "cd1a6760",
   "metadata": {},
   "outputs": [
    {
     "data": {
      "text/plain": [
       "(1777, 7)"
      ]
     },
     "execution_count": 157,
     "metadata": {},
     "output_type": "execute_result"
    }
   ],
   "source": [
    "df_new.shape"
   ]
  },
  {
   "cell_type": "code",
   "execution_count": 158,
   "id": "a593e8c5",
   "metadata": {},
   "outputs": [],
   "source": [
    "X_final=df_final.drop('wqi',axis=1)\n",
    "y_final=df_final['wqi']"
   ]
  },
  {
   "cell_type": "code",
   "execution_count": 159,
   "id": "2c9d1781",
   "metadata": {},
   "outputs": [
    {
     "data": {
      "text/plain": [
       "(1254, 6)"
      ]
     },
     "execution_count": 159,
     "metadata": {},
     "output_type": "execute_result"
    }
   ],
   "source": [
    "X_train_final, X_test_final, y_train_final, y_test_final = train_test_split(X_final, y_final, test_size = 0.25,random_state=45)\n",
    "X_train_final.shape"
   ]
  },
  {
   "cell_type": "code",
   "execution_count": 176,
   "id": "734bfb69",
   "metadata": {},
   "outputs": [
    {
     "name": "stdout",
     "output_type": "stream",
     "text": [
      "(418,)\n"
     ]
    }
   ],
   "source": [
    "#Applying Gradient Boosting\n",
    "from sklearn.ensemble import GradientBoostingRegressor\n",
    "from sklearn.datasets import make_regression\n",
    "gb = GradientBoostingRegressor(n_estimators=30, learning_rate=0.1, max_depth=6, random_state=42)\n",
    "gb.fit(X_train_final, y_train_final)\n",
    "y_predict = gb.predict(X_test_final)\n",
    "print(y_predict.shape)"
   ]
  },
  {
   "cell_type": "code",
   "execution_count": 178,
   "id": "a5d0da07",
   "metadata": {},
   "outputs": [
    {
     "name": "stdout",
     "output_type": "stream",
     "text": [
      "RMSE = 4.47 \n",
      "MSE = 19.97880397182922 \n",
      "MAE = 2.0137833972540435 \n",
      "R2 = 0.8973223140053188 \n",
      "Adjusted R2 = 0.8958233696842286\n"
     ]
    }
   ],
   "source": [
    "k = X_test_final.shape[1]\n",
    "n = len(X_test_final)\n",
    "from sklearn.metrics import r2_score, mean_squared_error, mean_absolute_error\n",
    "from math import sqrt\n",
    "\n",
    "RMSE = float(format(np.sqrt(mean_squared_error(y_test_final, y_predict)),'.3f'))\n",
    "MSE = mean_squared_error(y_test_final, y_predict)\n",
    "MAE = mean_absolute_error(y_test_final, y_predict)\n",
    "r2 = r2_score(y_test_final, y_predict)\n",
    "adj_r2 = 1-(1-r2)*(n-1)/(n-k-1)\n",
    "r2_gradb = r2\n",
    "print('RMSE =',RMSE, '\\nMSE =',MSE, '\\nMAE =',MAE, '\\nR2 =', r2, '\\nAdjusted R2 =', adj_r2)\n"
   ]
  },
  {
   "cell_type": "code",
   "execution_count": 179,
   "id": "b31b7a3b",
   "metadata": {},
   "outputs": [
    {
     "name": "stdout",
     "output_type": "stream",
     "text": [
      "Linear Model Coefficient (m):  [ 5.11858594e+00  3.58765275e+00  9.00264941e-05 -5.46793682e-01\n",
      " -3.94316232e-01 -3.17863011e-05]\n",
      "Linear Model Coefficient (b):  20.296085265887548\n"
     ]
    }
   ],
   "source": [
    "regressor_lasso = Lasso(alpha = 0.01)\n",
    "regressor_lasso.fit(X_train_final,y_train_final)\n",
    "print('Linear Model Coefficient (m): ', regressor_lasso.coef_)\n",
    "print('Linear Model Coefficient (b): ', regressor_lasso.intercept_)\n",
    "y_predict = regressor_lasso.predict( X_test_final)"
   ]
  },
  {
   "cell_type": "code",
   "execution_count": 181,
   "id": "4208ad2c",
   "metadata": {},
   "outputs": [
    {
     "name": "stdout",
     "output_type": "stream",
     "text": [
      "RMSE = 9.633 \n",
      "MSE = 92.78745290066018 \n",
      "MAE = 6.510627788685337 \n",
      "R2 = 0.5231345696862573 \n",
      "Adjusted R2 = 0.5161730305575896\n"
     ]
    }
   ],
   "source": [
    "RMSE = float(format(np.sqrt(mean_squared_error(y_test_final, y_predict)),'.3f'))\n",
    "MSE = mean_squared_error(y_test_final, y_predict)\n",
    "MAE = mean_absolute_error(y_test_final, y_predict)\n",
    "r2 = r2_score(y_test_final, y_predict)\n",
    "adj_r2 = 1-(1-r2)*(n-1)/(n-k-1)\n",
    "\n",
    "print('RMSE =',RMSE, '\\nMSE =',MSE, '\\nMAE =',MAE, '\\nR2 =', r2, '\\nAdjusted R2 =', adj_r2)\n"
   ]
  },
  {
   "cell_type": "code",
   "execution_count": 184,
   "id": "8929be17",
   "metadata": {},
   "outputs": [
    {
     "name": "stdout",
     "output_type": "stream",
     "text": [
      "RMSE = 5.693 \n",
      "MSE = 32.41112057416268 \n",
      "MAE = 1.792105263157907 \n",
      "R2 = 0.8334285242629101 \n",
      "Adjusted R2 = 0.8309968238871862\n"
     ]
    }
   ],
   "source": [
    "from sklearn.tree import DecisionTreeRegressor\n",
    "Treereg = DecisionTreeRegressor()\n",
    "Treereg.fit(X_train_final,y_train_final)\n",
    "y_pred = Treereg.predict(X_test_final)\n",
    "MSE = mean_squared_error(y_test_final, y_pred)\n",
    "RMSE = float(format(np.sqrt(mean_squared_error(y_test_final, y_pred)),'.3f'))\n",
    "MAE = mean_absolute_error(y_test_final, y_pred)\n",
    "r2 = r2_score(y_test_final, y_pred)\n",
    "adj_r2 = 1-(1-r2)*(n-1)/(n-k-1)\n",
    "r2_tree = r2\n",
    "print('RMSE =',RMSE, '\\nMSE =',MSE, '\\nMAE =',MAE, '\\nR2 =', r2, '\\nAdjusted R2 =', adj_r2)\n"
   ]
  },
  {
   "cell_type": "code",
   "execution_count": 185,
   "id": "e63f4d24",
   "metadata": {},
   "outputs": [
    {
     "name": "stdout",
     "output_type": "stream",
     "text": [
      "RMSE = 4.731 \n",
      "MSE = 22.381901009569393 \n",
      "MAE = 1.7404334928229825 \n",
      "R2 = 0.8849720029755018 \n",
      "Adjusted R2 = 0.8832927621430274\n"
     ]
    }
   ],
   "source": [
    "from sklearn.ensemble import RandomForestRegressor\n",
    "reg = RandomForestRegressor()\n",
    "reg.fit(X_train_final,y_train_final)\n",
    "y_pred = reg.predict(X_test_final)\n",
    "MSE = mean_squared_error(y_test_final, y_pred)\n",
    "RMSE = float(format(np.sqrt(mean_squared_error(y_test_final, y_pred)),'.3f'))\n",
    "MAE = mean_absolute_error(y_test_final, y_pred)\n",
    "r2 = r2_score(y_test_final, y_pred)\n",
    "adj_r2 = 1-(1-r2)*(n-1)/(n-k-1)\n",
    "r2_forest =r2\n",
    "print('RMSE =',RMSE, '\\nMSE =',MSE, '\\nMAE =',MAE, '\\nR2 =', r2, '\\nAdjusted R2 =', adj_r2)\n"
   ]
  },
  {
   "cell_type": "code",
   "execution_count": 168,
   "id": "f0b60082",
   "metadata": {},
   "outputs": [
    {
     "name": "stdout",
     "output_type": "stream",
     "text": [
      "RMSE = 12.637 \n",
      "MSE = 159.6813939988464 \n",
      "MAE = 7.7317581071224675 \n",
      "R2 = 0.17934446649934488 \n",
      "Adjusted R2 = 0.1673640937475105\n"
     ]
    }
   ],
   "source": [
    "from sklearn.svm import SVR\n",
    "SVreg = SVR()\n",
    "SVreg.fit(X_train_final,y_train_final)\n",
    "y_pred = SVreg.predict(X_test_final)\n",
    "MSE = mean_squared_error(y_test_final, y_pred)\n",
    "RMSE = float(format(np.sqrt(mean_squared_error(y_test_final, y_pred)),'.3f'))\n",
    "MAE = mean_absolute_error(y_test_final, y_pred)\n",
    "r2 = r2_score(y_test_final, y_pred)\n",
    "adj_r2 = 1-(1-r2)*(n-1)/(n-k-1)\n",
    "\n",
    "print('RMSE =',RMSE, '\\nMSE =',MSE, '\\nMAE =',MAE, '\\nR2 =', r2, '\\nAdjusted R2 =', adj_r2)\n"
   ]
  },
  {
   "cell_type": "code",
   "execution_count": 186,
   "id": "e5e65f55",
   "metadata": {},
   "outputs": [
    {
     "name": "stdout",
     "output_type": "stream",
     "text": [
      "RMSE = 12.677 \n",
      "MSE = 160.71326193301437 \n",
      "MAE = 8.275138755980862 \n",
      "R2 = 0.17404135566839274 \n",
      "Adjusted R2 = 0.16198356524019408\n"
     ]
    }
   ],
   "source": [
    "KNreg = KNeighborsRegressor()\n",
    "KNreg.fit(X_train_final,y_train_final)\n",
    "y_pred = KNreg.predict(X_test_final)\n",
    "MSE = mean_squared_error(y_test_final, y_pred)\n",
    "RMSE = float(format(np.sqrt(mean_squared_error(y_test_final, y_pred)),'.3f'))\n",
    "MAE = mean_absolute_error(y_test_final, y_pred)\n",
    "r2 = r2_score(y_test_final, y_pred)\n",
    "adj_r2 = 1-(1-r2)*(n-1)/(n-k-1)\n",
    "r2_knn =r2\n",
    "print('RMSE =',RMSE, '\\nMSE =',MSE, '\\nMAE =',MAE, '\\nR2 =', r2, '\\nAdjusted R2 =', adj_r2)\n"
   ]
  },
  {
   "cell_type": "code",
   "execution_count": 187,
   "id": "77bf98c0",
   "metadata": {},
   "outputs": [
    {
     "name": "stdout",
     "output_type": "stream",
     "text": [
      "RMSE = 9.642 \n",
      "MSE = 92.96819788519056 \n",
      "MAE = 6.514178332734594 \n",
      "R2 = 0.5222056613895998 \n",
      "Adjusted R2 = 0.5152305615558713\n"
     ]
    }
   ],
   "source": [
    "#Bayesian Ridge\n",
    "from sklearn.linear_model import BayesianRidge\n",
    "BRreg = BayesianRidge()\n",
    "BRreg.fit(X_train_final,y_train_final)\n",
    "y_pred = BRreg.predict(X_test_final)\n",
    "MSE = mean_squared_error(y_test_final, y_pred)\n",
    "RMSE = float(format(np.sqrt(mean_squared_error(y_test_final, y_pred)),'.3f'))\n",
    "MAE = mean_absolute_error(y_test_final, y_pred)\n",
    "r2 = r2_score(y_test_final, y_pred)\n",
    "adj_r2 = 1-(1-r2)*(n-1)/(n-k-1)\n",
    "r2_br=r2\n",
    "print('RMSE =',RMSE, '\\nMSE =',MSE, '\\nMAE =',MAE, '\\nR2 =', r2, '\\nAdjusted R2 =', adj_r2)\n"
   ]
  },
  {
   "cell_type": "code",
   "execution_count": 188,
   "id": "a944c29b",
   "metadata": {},
   "outputs": [],
   "source": [
    "r2_lrNorm=1\n",
    "r2_annNorm=0.99963"
   ]
  },
  {
   "cell_type": "code",
   "execution_count": 172,
   "id": "ad2e7f44",
   "metadata": {},
   "outputs": [
    {
     "name": "stdout",
     "output_type": "stream",
     "text": [
      "RMSE = 10.253 \n",
      "MSE = 105.11397383746849 \n",
      "MAE = 6.90020101135109 \n",
      "R2 = 0.45978449888416684 \n",
      "Adjusted R2 = 0.4518981412036438\n"
     ]
    }
   ],
   "source": [
    "#ElasticNet\n",
    "from sklearn.linear_model import ElasticNet\n",
    "ENreg = ElasticNet()\n",
    "ENreg.fit(X_train_final,y_train_final)\n",
    "y_pred = ENreg.predict(X_test_final)\n",
    "MSE = mean_squared_error(y_test_final, y_pred)\n",
    "RMSE = float(format(np.sqrt(mean_squared_error(y_test_final, y_pred)),'.3f'))\n",
    "MAE = mean_absolute_error(y_test_final, y_pred)\n",
    "r2 = r2_score(y_test_final, y_pred)\n",
    "adj_r2 = 1-(1-r2)*(n-1)/(n-k-1)\n",
    "\n",
    "print('RMSE =',RMSE, '\\nMSE =',MSE, '\\nMAE =',MAE, '\\nR2 =', r2, '\\nAdjusted R2 =', adj_r2)\n"
   ]
  },
  {
   "cell_type": "code",
   "execution_count": null,
   "id": "d76bb6c1",
   "metadata": {},
   "outputs": [],
   "source": [
    "#Using Weighted parameters taken from official sources\n",
    "wi = np.array([0.2213, 0.2604, 0.0022, 0.4426, 0.0492, 0.0022])\n",
    "# Standard values of parameters(si)\n",
    "si = np.array([10, 8.5, 1000, 5, 45, 1000])\n",
    "# Ideal values of paramters(vIdeal)\n",
    "vIdeal = np.array([14.6, 7, 0, 0, 0, 0])\n",
    "\n",
    "def calc_wqi(sample): \n",
    "    wqi_sample = 0\n",
    "    num_col = 6\n",
    "    for index in range(num_col):\n",
    "        v_index = sample[index] # Obeserved value of sample at index\n",
    "        v_index_ideal = vIdeal[index] # Ideal value of obeserved value\n",
    "        w_index = wi[index] # weight of corresponding parameter of obeserved value\n",
    "        std_index = si[index] # Standard value recommended for obeserved value\n",
    "        q_index = (v_index - v_index_ideal) / (std_index - v_index_ideal)\n",
    "        q_index = q_index * 100 # Final qi value of obeserved value\n",
    "        wqi_sample += q_index*w_index\n",
    "    return wqi_sample\n",
    "\n",
    "#WQI for the whole dataset\n",
    "def calc_wqi_for_df(df):\n",
    "    wqi_arr = []\n",
    "    for index in range(df.shape[0]):\n",
    "        index_row = df.iloc[index, :]\n",
    "        wqi_row = calc_wqi(index_row)\n",
    "        wqi_arr.append(wqi_row)\n",
    "    return wqi_arr\n",
    "\n",
    "wqi_arr = calc_wqi_for_df(df_num_final)\n",
    "# Converting oridnary array to numpy array\n",
    "wqi_arr = np.array(wqi_arr)\n",
    "wqi_arr = np.reshape(wqi_arr, (-1, 1))\n",
    "\n",
    "# Resetting index values of the dataframes\n",
    "wqi_arr_df = pd.DataFrame(wqi_arr, columns=[\"WQI\"]).reset_index()\n",
    "df_final = df_final.reset_index()"
   ]
  },
  {
   "cell_type": "code",
   "execution_count": 173,
   "id": "7a493b6c",
   "metadata": {},
   "outputs": [
    {
     "data": {
      "text/html": [
       "<div>\n",
       "<style scoped>\n",
       "    .dataframe tbody tr th:only-of-type {\n",
       "        vertical-align: middle;\n",
       "    }\n",
       "\n",
       "    .dataframe tbody tr th {\n",
       "        vertical-align: top;\n",
       "    }\n",
       "\n",
       "    .dataframe thead th {\n",
       "        text-align: right;\n",
       "    }\n",
       "</style>\n",
       "<table border=\"1\" class=\"dataframe\">\n",
       "  <thead>\n",
       "    <tr style=\"text-align: right;\">\n",
       "      <th></th>\n",
       "      <th>do</th>\n",
       "      <th>ph</th>\n",
       "      <th>co</th>\n",
       "      <th>bod</th>\n",
       "      <th>na</th>\n",
       "      <th>tc</th>\n",
       "    </tr>\n",
       "  </thead>\n",
       "  <tbody>\n",
       "    <tr>\n",
       "      <th>257</th>\n",
       "      <td>8.2</td>\n",
       "      <td>8.4</td>\n",
       "      <td>606.0</td>\n",
       "      <td>2.9</td>\n",
       "      <td>0.0</td>\n",
       "      <td>10.0</td>\n",
       "    </tr>\n",
       "    <tr>\n",
       "      <th>233</th>\n",
       "      <td>7.2</td>\n",
       "      <td>7.1</td>\n",
       "      <td>65.0</td>\n",
       "      <td>2.1</td>\n",
       "      <td>2.4</td>\n",
       "      <td>120.0</td>\n",
       "    </tr>\n",
       "    <tr>\n",
       "      <th>414</th>\n",
       "      <td>7.0</td>\n",
       "      <td>6.4</td>\n",
       "      <td>149.0</td>\n",
       "      <td>4.0</td>\n",
       "      <td>1.0</td>\n",
       "      <td>10.0</td>\n",
       "    </tr>\n",
       "    <tr>\n",
       "      <th>439</th>\n",
       "      <td>4.6</td>\n",
       "      <td>7.4</td>\n",
       "      <td>1284.0</td>\n",
       "      <td>24.3</td>\n",
       "      <td>4.0</td>\n",
       "      <td>50000.0</td>\n",
       "    </tr>\n",
       "    <tr>\n",
       "      <th>1644</th>\n",
       "      <td>5.9</td>\n",
       "      <td>7.8</td>\n",
       "      <td>692.0</td>\n",
       "      <td>11.1</td>\n",
       "      <td>3.5</td>\n",
       "      <td>222500.0</td>\n",
       "    </tr>\n",
       "  </tbody>\n",
       "</table>\n",
       "</div>"
      ],
      "text/plain": [
       "       do   ph      co   bod   na        tc\n",
       "257   8.2  8.4   606.0   2.9  0.0      10.0\n",
       "233   7.2  7.1    65.0   2.1  2.4     120.0\n",
       "414   7.0  6.4   149.0   4.0  1.0      10.0\n",
       "439   4.6  7.4  1284.0  24.3  4.0   50000.0\n",
       "1644  5.9  7.8   692.0  11.1  3.5  222500.0"
      ]
     },
     "execution_count": 173,
     "metadata": {},
     "output_type": "execute_result"
    }
   ],
   "source": [
    "X_train_final.head()"
   ]
  },
  {
   "cell_type": "code",
   "execution_count": 201,
   "id": "ceb6fb75",
   "metadata": {},
   "outputs": [
    {
     "data": {
      "image/png": "[encoded data removed]",
      "text/plain": [
       "<Figure size 432x288 with 1 Axes>"
      ]
     },
     "metadata": {
      "needs_background": "light"
     },
     "output_type": "display_data"
    }
   ],
   "source": [
    "import matplotlib.pyplot as plt\n",
    "labels = ['Gradient Boosting','Linear Regression','Decision Tree Regression','Random Forest Regression','Bayesian Ridge','K-Nearest Neighbors','Artificial Neural Network']\n",
    "values = [r2_gradb,r2_lrNorm,r2_tree,r2_forest,r2_br,r2_knn,r2_annNorm]\n",
    "#colors = ['red', 'blue', 'green', 'orange', 'purple', 'yellow', 'cyan']\n",
    "colors = [(1, 0, 0, 0.7),  # Red\n",
    "          (0, 0, 1, 0.7),  # Blue\n",
    "          (0, 0.5, 0, 0.7),  # Green\n",
    "          (1, 0.65, 0, 0.7),  # Orange\n",
    "          (0.5, 0, 0.5, 0.7),  # Purple\n",
    "          (1, 1, 0, 0.7),  # Yellow\n",
    "          (0, 1, 1, 0.7)]  # Cyan\n",
    "\n",
    "plt.barh(labels, values,color=colors)\n",
    "plt.xlabel('R2 Score')\n",
    "plt.ylabel('Regression Models')\n",
    "plt.title('Accuracy Comparison')\n",
    "\n",
    "plt.show()"
   ]
  },
  {
   "cell_type": "code",
   "execution_count": null,
   "id": "f4d23834",
   "metadata": {},
   "outputs": [],
   "source": []
  }
 ],
 "metadata": {
  "kernelspec": {
   "display_name": "Python 3",
   "language": "python",
   "name": "python3"
  },
  "language_info": {
   "codemirror_mode": {
    "name": "ipython",
    "version": 3
   },
   "file_extension": ".py",
   "mimetype": "text/x-python",
   "name": "python",
   "nbconvert_exporter": "python",
   "pygments_lexer": "ipython3",
   "version": "3.8.8"
  }
 },
 "nbformat": 4,
 "nbformat_minor": 5
}
